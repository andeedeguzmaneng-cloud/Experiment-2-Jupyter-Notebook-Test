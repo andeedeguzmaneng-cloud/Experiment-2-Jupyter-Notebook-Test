{
 "cells": [
  {
   "cell_type": "code",
   "execution_count": 8,
   "id": "64b2c431-03ee-4421-9c9b-a579e67fdbe4",
   "metadata": {},
   "outputs": [],
   "source": [
    "import numpy as np"
   ]
  },
  {
   "cell_type": "markdown",
   "id": "591b4e9d-a72c-489c-bfb1-532d5b4145d5",
   "metadata": {},
   "source": [
    "NORMALIZATION PROBLEM"
   ]
  },
  {
   "cell_type": "code",
   "execution_count": 9,
   "id": "c560edd0-f3ad-4866-860f-070e5f59cfe6",
   "metadata": {},
   "outputs": [
    {
     "name": "stdout",
     "output_type": "stream",
     "text": [
      "Original X:\n",
      " [[0.28623683 0.76329285 0.18948959 0.88330832 0.81474404]\n",
      " [0.70718219 0.56776776 0.57400492 0.9263899  0.1306332 ]\n",
      " [0.79163687 0.16435679 0.90506778 0.66211793 0.31257525]\n",
      " [0.30093598 0.41490301 0.22200656 0.20683719 0.73877744]\n",
      " [0.94289105 0.64584505 0.19066772 0.52054538 0.3667299 ]]\n"
     ]
    }
   ],
   "source": [
    "X = np.random.rand(5, 5)\n",
    "print(\"Original X:\\n\", X)"
   ]
  },
  {
   "cell_type": "code",
   "execution_count": 14,
   "id": "357c4596-8a3a-4fea-b633-d0cfa27a8ac6",
   "metadata": {},
   "outputs": [
    {
     "name": "stdout",
     "output_type": "stream",
     "text": [
      "Normalized X:\n",
      " [[-0.89810646  0.86562436 -1.25579211  1.30933533  1.05584533]\n",
      " [ 0.65817683  0.14274569  0.16580516  1.46861286 -1.47339094]\n",
      " [ 0.97041545 -1.34871098  1.38978256  0.49156906 -0.80073033]\n",
      " [-0.84376205 -0.42241284 -1.13557316 -1.19165605  0.77498809]\n",
      " [ 1.5296195   0.43140637 -1.25143645 -0.03184087 -0.60051436]]\n"
     ]
    }
   ],
   "source": [
    "mean_X = X.mean()\n",
    "std_X = X.std()\n",
    "\n",
    "X_normalized = (X - mean_X) / std_X\n",
    "print(\"Normalized X:\\n\", X_normalized)"
   ]
  },
  {
   "cell_type": "code",
   "execution_count": null,
   "id": "12a090cf-a4fd-473e-9974-d4bb810cb999",
   "metadata": {},
   "outputs": [],
   "source": [
    "np.save(\"X_normalized.npy\", X_normalized)"
   ]
  },
  {
   "cell_type": "markdown",
   "id": "2272a26c-4dbd-4e4e-813f-adcc9182c383",
   "metadata": {},
   "source": [
    "DIVISIBLE BY 3 PROBLEM"
   ]
  },
  {
   "cell_type": "code",
   "execution_count": 17,
   "id": "b40c0edf-fa25-4c94-b223-8d49cbf83716",
   "metadata": {},
   "outputs": [
    {
     "name": "stdout",
     "output_type": "stream",
     "text": [
      "10x10ndarray of quares:\n",
      " [[    1     4     9    16    25    36    49    64    81   100]\n",
      " [  121   144   169   196   225   256   289   324   361   400]\n",
      " [  441   484   529   576   625   676   729   784   841   900]\n",
      " [  961  1024  1089  1156  1225  1296  1369  1444  1521  1600]\n",
      " [ 1681  1764  1849  1936  2025  2116  2209  2304  2401  2500]\n",
      " [ 2601  2704  2809  2916  3025  3136  3249  3364  3481  3600]\n",
      " [ 3721  3844  3969  4096  4225  4356  4489  4624  4761  4900]\n",
      " [ 5041  5184  5329  5476  5625  5776  5929  6084  6241  6400]\n",
      " [ 6561  6724  6889  7056  7225  7396  7569  7744  7921  8100]\n",
      " [ 8281  8464  8649  8836  9025  9216  9409  9604  9801 10000]]\n"
     ]
    }
   ],
   "source": [
    "A = np.arange(1, 101) **2\n",
    "A = A.reshape(10,10)\n",
    "print(\"10x10ndarray of quares:\\n\", A)"
   ]
  },
  {
   "cell_type": "code",
   "execution_count": 19,
   "id": "171cd25b-10e3-49ae-b2ae-cb883bed2c4d",
   "metadata": {},
   "outputs": [
    {
     "name": "stdout",
     "output_type": "stream",
     "text": [
      "Elements divisible by 3:\n",
      " [   9   36   81  144  225  324  441  576  729  900 1089 1296 1521 1764\n",
      " 2025 2304 2601 2916 3249 3600 3969 4356 4761 5184 5625 6084 6561 7056\n",
      " 7569 8100 8649 9216 9801]\n"
     ]
    }
   ],
   "source": [
    "div_by_3 = A[A % 3 == 0 ]\n",
    "print(\"Elements divisible by 3:\\n\", div_by_3)"
   ]
  },
  {
   "cell_type": "code",
   "execution_count": 20,
   "id": "e218bd1f-df81-4ad5-8ff8-9d21ad01834e",
   "metadata": {},
   "outputs": [],
   "source": [
    "np.save(\"div_by_3.npy\", div_by_3)"
   ]
  },
  {
   "cell_type": "code",
   "execution_count": null,
   "id": "b0726821-c908-4d2c-b81a-51ae1d602238",
   "metadata": {},
   "outputs": [],
   "source": []
  }
 ],
 "metadata": {
  "kernelspec": {
   "display_name": "Python 3 (ipykernel)",
   "language": "python",
   "name": "python3"
  },
  "language_info": {
   "codemirror_mode": {
    "name": "ipython",
    "version": 3
   },
   "file_extension": ".py",
   "mimetype": "text/x-python",
   "name": "python",
   "nbconvert_exporter": "python",
   "pygments_lexer": "ipython3",
   "version": "3.13.5"
  }
 },
 "nbformat": 4,
 "nbformat_minor": 5
}
